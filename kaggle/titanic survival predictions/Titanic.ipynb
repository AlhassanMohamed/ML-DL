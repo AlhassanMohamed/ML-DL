{
  "cells": [
    {
      "metadata": {
        "_uuid": "8f2839f25d086af736a60e9eeb907d3b93b6e0e5",
        "_cell_guid": "b1076dfc-b9ad-4769-8c92-a6c4dae69d19",
        "trusted": true
      },
      "cell_type": "code",
      "source": "#importing library\nimport pandas as pd \nimport numpy as np",
      "execution_count": 41,
      "outputs": []
    },
    {
      "metadata": {
        "_cell_guid": "79c7e3d0-c299-4dcb-8224-4455121ee9b0",
        "_uuid": "d629ff2d2480ee46fbb7e2d37f6b5fab8052498a",
        "trusted": true
      },
      "cell_type": "code",
      "source": "#read data sets from csv files\ntrain = pd.read_csv('../input/train.csv')\ntest  = pd.read_csv('../input/test.csv')\n",
      "execution_count": 42,
      "outputs": []
    },
    {
      "metadata": {
        "trusted": true,
        "scrolled": true,
        "_uuid": "7fa819a92cee6753266fa828da2693f892b943f3"
      },
      "cell_type": "code",
      "source": "#print the datasets to know what i should take from files\nprint('-'*20,'train','-'*20)\n#train",
      "execution_count": 43,
      "outputs": [
        {
          "output_type": "stream",
          "text": "-------------------- train --------------------\n",
          "name": "stdout"
        }
      ]
    },
    {
      "metadata": {
        "trusted": true,
        "scrolled": true,
        "_uuid": "c478d3f79af7609863cc28e2b8911e70e12b55c9"
      },
      "cell_type": "code",
      "source": "# determine features and label from train dataframe\n# label y\ny_train = train.iloc[:,[1]].values\n# feature X\nX_train = train.iloc[:,[2,4,5,6,7,9,11]]\n\n#print y_train\n#y_train",
      "execution_count": 44,
      "outputs": []
    },
    {
      "metadata": {
        "trusted": true,
        "_uuid": "d2a431980f4a7ea5cef6fb474dc2a715eaba247e",
        "scrolled": true
      },
      "cell_type": "code",
      "source": "#print X_train \n#X_train",
      "execution_count": 45,
      "outputs": []
    },
    {
      "metadata": {
        "trusted": true,
        "_uuid": "0488fe4c378de9949d862e1c9e3835f6570d5b74",
        "scrolled": true
      },
      "cell_type": "code",
      "source": "# start to clean the X_train from NaN using 'mean'\nfrom sklearn.preprocessing import Imputer\nX_age_imputer = Imputer()\nX_age_imputer = Imputer(missing_values='NaN',strategy='mean',axis=0)\nX_train.iloc[:,[2]] = X_age_imputer.fit_transform(X_train.iloc[:,[2]])\n\n#print X_train after takeing care of missing data\n#X_train",
      "execution_count": 46,
      "outputs": [
        {
          "output_type": "stream",
          "text": "/opt/conda/lib/python3.6/site-packages/sklearn/utils/deprecation.py:58: DeprecationWarning: Class Imputer is deprecated; Imputer was deprecated in version 0.20 and will be removed in 0.22. Import impute.SimpleImputer from sklearn instead.\n  warnings.warn(msg, category=DeprecationWarning)\n/opt/conda/lib/python3.6/site-packages/sklearn/utils/deprecation.py:58: DeprecationWarning: Class Imputer is deprecated; Imputer was deprecated in version 0.20 and will be removed in 0.22. Import impute.SimpleImputer from sklearn instead.\n  warnings.warn(msg, category=DeprecationWarning)\n/opt/conda/lib/python3.6/site-packages/pandas/core/indexing.py:543: SettingWithCopyWarning: \nA value is trying to be set on a copy of a slice from a DataFrame.\nTry using .loc[row_indexer,col_indexer] = value instead\n\nSee the caveats in the documentation: http://pandas.pydata.org/pandas-docs/stable/indexing.html#indexing-view-versus-copy\n  self.obj[item] = s\n",
          "name": "stderr"
        }
      ]
    },
    {
      "metadata": {
        "trusted": true,
        "_uuid": "9bdf76ea9b3fde9b41fe5150586e45fa13b3a535",
        "scrolled": true
      },
      "cell_type": "code",
      "source": "# Encoding categorical data\n# Encoding the Independent Variable\nfrom sklearn.preprocessing import LabelEncoder, OneHotEncoder\nX_labelencoder_1 = LabelEncoder()\nX_train.iloc[:,[1]] = X_labelencoder_1.fit_transform(X_train.iloc[:,[1]])\n\n#X_train",
      "execution_count": 47,
      "outputs": [
        {
          "output_type": "stream",
          "text": "/opt/conda/lib/python3.6/site-packages/sklearn/preprocessing/label.py:235: DataConversionWarning: A column-vector y was passed when a 1d array was expected. Please change the shape of y to (n_samples, ), for example using ravel().\n  y = column_or_1d(y, warn=True)\n/opt/conda/lib/python3.6/site-packages/pandas/core/indexing.py:543: SettingWithCopyWarning: \nA value is trying to be set on a copy of a slice from a DataFrame.\nTry using .loc[row_indexer,col_indexer] = value instead\n\nSee the caveats in the documentation: http://pandas.pydata.org/pandas-docs/stable/indexing.html#indexing-view-versus-copy\n  self.obj[item] = s\n",
          "name": "stderr"
        }
      ]
    },
    {
      "metadata": {
        "trusted": true,
        "scrolled": true,
        "_uuid": "ae6c84f0e4d4141436f48c1e43fabb324b67c0d6"
      },
      "cell_type": "code",
      "source": "X_train = X_train.iloc[:,:-1]\n#X_train",
      "execution_count": 48,
      "outputs": []
    },
    {
      "metadata": {
        "trusted": true,
        "_uuid": "a328353b00e270da34f7a92183eb1cc12aaa0c64",
        "scrolled": true
      },
      "cell_type": "code",
      "source": "#print the datasets to know what i should take from files\nprint('-'*40,'test','-'*40)\n#test",
      "execution_count": 49,
      "outputs": [
        {
          "output_type": "stream",
          "text": "---------------------------------------- test ----------------------------------------\n",
          "name": "stdout"
        }
      ]
    },
    {
      "metadata": {
        "trusted": true,
        "_uuid": "47bea31826e2a46293085518ddbd1953f06fec3c",
        "scrolled": true
      },
      "cell_type": "code",
      "source": "#importing y_train form csv file\ngender_submission  = pd.read_csv('../input/gender_submission.csv')\n\n# determine features and label from train dataframe\n# label y\ny_test = gender_submission.iloc[:,[1]]\n# feature X\nX_test = test.iloc[:,[1,3,4,5,6,8]]\n\n#print X_test\n#X_test",
      "execution_count": 50,
      "outputs": []
    },
    {
      "metadata": {
        "trusted": true,
        "_uuid": "e2d730b12e90ed6fa25ecd1d9ccda98a95fe235f"
      },
      "cell_type": "code",
      "source": "# start to clean the X_test from NaN using 'mean'\nfrom sklearn.preprocessing import Imputer\nX_age_imputer = Imputer()\nX_age_imputer = Imputer(missing_values='NaN',strategy='mean',axis=0)\nX_test.iloc[:,[2,-1]] = X_age_imputer.fit_transform(X_test.iloc[:,[2,-1]])\n\n#print X_test after takeing care of missing data\n#X_test",
      "execution_count": 51,
      "outputs": [
        {
          "output_type": "stream",
          "text": "/opt/conda/lib/python3.6/site-packages/sklearn/utils/deprecation.py:58: DeprecationWarning: Class Imputer is deprecated; Imputer was deprecated in version 0.20 and will be removed in 0.22. Import impute.SimpleImputer from sklearn instead.\n  warnings.warn(msg, category=DeprecationWarning)\n/opt/conda/lib/python3.6/site-packages/sklearn/utils/deprecation.py:58: DeprecationWarning: Class Imputer is deprecated; Imputer was deprecated in version 0.20 and will be removed in 0.22. Import impute.SimpleImputer from sklearn instead.\n  warnings.warn(msg, category=DeprecationWarning)\n/opt/conda/lib/python3.6/site-packages/pandas/core/indexing.py:543: SettingWithCopyWarning: \nA value is trying to be set on a copy of a slice from a DataFrame.\nTry using .loc[row_indexer,col_indexer] = value instead\n\nSee the caveats in the documentation: http://pandas.pydata.org/pandas-docs/stable/indexing.html#indexing-view-versus-copy\n  self.obj[item] = s\n",
          "name": "stderr"
        }
      ]
    },
    {
      "metadata": {
        "trusted": true,
        "scrolled": true,
        "_uuid": "0b3d75fcc623f589353aa33851d10c69652e7aba"
      },
      "cell_type": "code",
      "source": "# Encoding categorical data\n# Encoding the Independent Variable\nfrom sklearn.preprocessing import LabelEncoder, OneHotEncoder\nX_labelencoder_1 = LabelEncoder()\nX_test.iloc[:,[1]] = X_labelencoder_1.fit_transform(X_test.iloc[:,[1]])\n\n#X_test",
      "execution_count": 52,
      "outputs": [
        {
          "output_type": "stream",
          "text": "/opt/conda/lib/python3.6/site-packages/sklearn/preprocessing/label.py:235: DataConversionWarning: A column-vector y was passed when a 1d array was expected. Please change the shape of y to (n_samples, ), for example using ravel().\n  y = column_or_1d(y, warn=True)\n/opt/conda/lib/python3.6/site-packages/pandas/core/indexing.py:543: SettingWithCopyWarning: \nA value is trying to be set on a copy of a slice from a DataFrame.\nTry using .loc[row_indexer,col_indexer] = value instead\n\nSee the caveats in the documentation: http://pandas.pydata.org/pandas-docs/stable/indexing.html#indexing-view-versus-copy\n  self.obj[item] = s\n",
          "name": "stderr"
        }
      ]
    },
    {
      "metadata": {
        "trusted": true,
        "_uuid": "17efce1d02b4fcb0932e6732a39cadf5683ad2fb"
      },
      "cell_type": "code",
      "source": "#fill missing value 0\nX_test.isnull().sum()",
      "execution_count": 53,
      "outputs": [
        {
          "output_type": "execute_result",
          "execution_count": 53,
          "data": {
            "text/plain": "Pclass    0\nSex       0\nAge       0\nSibSp     0\nParch     0\nFare      0\ndtype: int64"
          },
          "metadata": {}
        }
      ]
    },
    {
      "metadata": {
        "trusted": true,
        "_uuid": "8bc07179e2d2e65a13be9190f1104795789c6a1e"
      },
      "cell_type": "code",
      "source": "# Fitting Logistic Regression to the Training set\nfrom sklearn.linear_model import LogisticRegression\nclassifier = LogisticRegression(random_state = 0)\nclassifier.fit(X_train, y_train)",
      "execution_count": 54,
      "outputs": [
        {
          "output_type": "stream",
          "text": "/opt/conda/lib/python3.6/site-packages/sklearn/utils/validation.py:752: DataConversionWarning: A column-vector y was passed when a 1d array was expected. Please change the shape of y to (n_samples, ), for example using ravel().\n  y = column_or_1d(y, warn=True)\n",
          "name": "stderr"
        },
        {
          "output_type": "execute_result",
          "execution_count": 54,
          "data": {
            "text/plain": "LogisticRegression(C=1.0, class_weight=None, dual=False, fit_intercept=True,\n          intercept_scaling=1, max_iter=100, multi_class='ovr',\n          n_jobs=None, penalty='l2', random_state=0, solver='liblinear',\n          tol=0.0001, verbose=0, warm_start=False)"
          },
          "metadata": {}
        }
      ]
    },
    {
      "metadata": {
        "trusted": true,
        "_uuid": "e8865eeec14ee17cddbce9bffccf3a3942d7b384"
      },
      "cell_type": "code",
      "source": "# Predicting the Test set results\ny_pred = classifier.predict(X_test.values)",
      "execution_count": 55,
      "outputs": []
    },
    {
      "metadata": {
        "trusted": true,
        "_uuid": "b75cd97b1baca982e7987282207f5c4759cf48f9"
      },
      "cell_type": "code",
      "source": "# Making the Confusion Matrix\nfrom sklearn.metrics import confusion_matrix\ncm = confusion_matrix(y_test, y_pred)\ncm",
      "execution_count": 56,
      "outputs": [
        {
          "output_type": "execute_result",
          "execution_count": 56,
          "data": {
            "text/plain": "array([[259,   7],\n       [  8, 144]])"
          },
          "metadata": {}
        }
      ]
    }
  ],
  "metadata": {
    "kernelspec": {
      "display_name": "Python 3",
      "language": "python",
      "name": "python3"
    },
    "language_info": {
      "name": "python",
      "version": "3.6.6",
      "mimetype": "text/x-python",
      "codemirror_mode": {
        "name": "ipython",
        "version": 3
      },
      "pygments_lexer": "ipython3",
      "nbconvert_exporter": "python",
      "file_extension": ".py"
    }
  },
  "nbformat": 4,
  "nbformat_minor": 1
}