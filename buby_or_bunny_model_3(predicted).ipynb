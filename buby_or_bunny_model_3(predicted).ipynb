{
  "nbformat": 4,
  "nbformat_minor": 0,
  "metadata": {
    "colab": {
      "name": "buby or bunny.ipynb",
      "version": "0.3.2",
      "provenance": [],
      "collapsed_sections": [],
      "include_colab_link": true
    },
    "kernelspec": {
      "name": "python3",
      "display_name": "Python 3"
    },
    "accelerator": "GPU"
  },
  "cells": [
    {
      "cell_type": "markdown",
      "metadata": {
        "id": "view-in-github",
        "colab_type": "text"
      },
      "source": [
        "[View in Colaboratory](https://colab.research.google.com/github/AlhassanMohamed/deeplearning_work/blob/master/buby_or_bunny_model_3(predicted).ipynb)"
      ]
    },
    {
      "metadata": {
        "id": "7tUdovLKQCal",
        "colab_type": "code",
        "colab": {}
      },
      "cell_type": "code",
      "source": [
        "# Convolutional Neural Network\n",
        "\n",
        "# Installing Theano\n",
        "# pip install --upgrade --no-deps git+git://github.com/Theano/Theano.git\n",
        "\n",
        "# Installing Tensorflow\n",
        "# Install Tensorflow from the website: https://www.tensorflow.org/versions/r0.12/get_started/os_setup.html\n",
        "\n",
        "# Installing Keras\n",
        "# pip install --upgrade keras\n",
        "\n",
        "# Part 1 - Building the CNN\n",
        "\n",
        "# Importing the Keras libraries and packages\n",
        "from keras.models import Sequential\n",
        "from keras.layers import Convolution2D\n",
        "from keras.layers import MaxPooling2D\n",
        "from keras.layers import Flatten\n",
        "from keras.layers import Dense\n",
        "from keras import layers"
      ],
      "execution_count": 0,
      "outputs": []
    },
    {
      "metadata": {
        "id": "45uJLJltQuVU",
        "colab_type": "code",
        "colab": {
          "base_uri": "https://localhost:8080/",
          "height": 204
        },
        "outputId": "8342bbb6-4259-4630-a862-900c97858d7c"
      },
      "cell_type": "code",
      "source": [
        "\n",
        "# Initialising the CNN\n",
        "classifier = Sequential()\n",
        "\n",
        "# Step 1 - Convolution\n",
        "classifier.add(Convolution2D(32, 3, 3, input_shape = (64, 64, 3), activation = 'relu'))\n",
        "\n",
        "# Step 2 - Pooling\n",
        "classifier.add(MaxPooling2D(pool_size = (2, 2)))\n",
        "classifier.add(layers.Dropout(.2))\n",
        "# Adding a second convolutional layer\n",
        "classifier.add(Convolution2D(64, 3, 3, activation = 'relu'))\n",
        "classifier.add(MaxPooling2D(pool_size = (2, 2)))\n",
        "# Add a dropout layer for previous hidden layer\n",
        "classifier.add(layers.Dropout(0.5))\n",
        "# Adding a 3th convolutional layer\n",
        "classifier.add(Convolution2D(128, 3, 3, activation = 'relu'))\n",
        "classifier.add(MaxPooling2D(pool_size = (2, 2)))\n",
        "\n",
        "# Step 3 - Flattening\n",
        "classifier.add(Flatten())\n",
        "\n",
        "# Step 4 - Full connection\n",
        "classifier.add(Dense(output_dim = 128, activation = 'relu'))\n",
        "classifier.add(Dense(output_dim = 128, activation = 'relu'))\n",
        "classifier.add(Dense(output_dim = 1, activation = 'sigmoid'))\n",
        "\n",
        "# Compiling the CNN\n",
        "classifier.compile(optimizer = 'adam', loss = 'binary_crossentropy', metrics = ['accuracy'])\n"
      ],
      "execution_count": 12,
      "outputs": [
        {
          "output_type": "stream",
          "text": [
            "/usr/local/lib/python3.6/dist-packages/ipykernel_launcher.py:4: UserWarning: Update your `Conv2D` call to the Keras 2 API: `Conv2D(32, (3, 3), input_shape=(64, 64, 3..., activation=\"relu\")`\n",
            "  after removing the cwd from sys.path.\n",
            "/usr/local/lib/python3.6/dist-packages/ipykernel_launcher.py:10: UserWarning: Update your `Conv2D` call to the Keras 2 API: `Conv2D(64, (3, 3), activation=\"relu\")`\n",
            "  # Remove the CWD from sys.path while we load stuff.\n",
            "/usr/local/lib/python3.6/dist-packages/ipykernel_launcher.py:15: UserWarning: Update your `Conv2D` call to the Keras 2 API: `Conv2D(128, (3, 3), activation=\"relu\")`\n",
            "  from ipykernel import kernelapp as app\n",
            "/usr/local/lib/python3.6/dist-packages/ipykernel_launcher.py:22: UserWarning: Update your `Dense` call to the Keras 2 API: `Dense(activation=\"relu\", units=128)`\n",
            "/usr/local/lib/python3.6/dist-packages/ipykernel_launcher.py:23: UserWarning: Update your `Dense` call to the Keras 2 API: `Dense(activation=\"relu\", units=128)`\n",
            "/usr/local/lib/python3.6/dist-packages/ipykernel_launcher.py:24: UserWarning: Update your `Dense` call to the Keras 2 API: `Dense(activation=\"sigmoid\", units=1)`\n"
          ],
          "name": "stderr"
        }
      ]
    },
    {
      "metadata": {
        "id": "mB0LaIgRR9WQ",
        "colab_type": "code",
        "colab": {
          "base_uri": "https://localhost:8080/",
          "height": 222
        },
        "outputId": "1e992ab7-a2ee-4178-a611-251d828b2dad"
      },
      "cell_type": "code",
      "source": [
        "!apt-get install -y -qq software-properties-common python-software-properties module-init-tools\n",
        "!add-apt-repository -y ppa:alessandro-strada/ppa 2>&1 > /dev/null\n",
        "!apt-get update -qq 2>&1 > /dev/null\n",
        "!apt-get -y install -qq google-drive-ocamlfuse fuse\n",
        "from google.colab import auth\n",
        "auth.authenticate_user()\n",
        "from oauth2client.client import GoogleCredentials\n",
        "creds = GoogleCredentials.get_application_default()\n",
        "import getpass\n",
        "!google-drive-ocamlfuse -headless -id={creds.client_id} -secret={creds.client_secret} < /dev/null 2>&1 | grep URL\n",
        "vcode = getpass.getpass()\n",
        "!echo {vcode} | google-drive-ocamlfuse -headless -id={creds.client_id} -secret={creds.client_secret}"
      ],
      "execution_count": 4,
      "outputs": [
        {
          "output_type": "stream",
          "text": [
            "gpg: keybox '/tmp/tmpr2o2qsmg/pubring.gpg' created\n",
            "gpg: /tmp/tmpr2o2qsmg/trustdb.gpg: trustdb created\n",
            "gpg: key AD5F235DF639B041: public key \"Launchpad PPA for Alessandro Strada\" imported\n",
            "gpg: Total number processed: 1\n",
            "gpg:               imported: 1\n",
            "Warning: apt-key output should not be parsed (stdout is not a terminal)\n",
            "Please, open the following URL in a web browser: https://accounts.google.com/o/oauth2/auth?client_id=32555940559.apps.googleusercontent.com&redirect_uri=urn%3Aietf%3Awg%3Aoauth%3A2.0%3Aoob&scope=https%3A%2F%2Fwww.googleapis.com%2Fauth%2Fdrive&response_type=code&access_type=offline&approval_prompt=force\n",
            "··········\n",
            "Please, open the following URL in a web browser: https://accounts.google.com/o/oauth2/auth?client_id=32555940559.apps.googleusercontent.com&redirect_uri=urn%3Aietf%3Awg%3Aoauth%3A2.0%3Aoob&scope=https%3A%2F%2Fwww.googleapis.com%2Fauth%2Fdrive&response_type=code&access_type=offline&approval_prompt=force\n",
            "Please enter the verification code: Access token retrieved correctly.\n"
          ],
          "name": "stdout"
        }
      ]
    },
    {
      "metadata": {
        "id": "NqWFmLR1SQXh",
        "colab_type": "code",
        "colab": {}
      },
      "cell_type": "code",
      "source": [
        "!mkdir -p drive\n",
        "!google-drive-ocamlfuse drive"
      ],
      "execution_count": 0,
      "outputs": []
    },
    {
      "metadata": {
        "id": "mwhbHNveQ10v",
        "colab_type": "code",
        "colab": {
          "base_uri": "https://localhost:8080/",
          "height": 54
        },
        "outputId": "bc8e0a94-2d7c-4222-eed9-53e6aa63a749"
      },
      "cell_type": "code",
      "source": [
        "\n",
        "from keras.preprocessing.image import ImageDataGenerator\n",
        "\n",
        "train_datagen = ImageDataGenerator(rescale = 1./255,\n",
        "                                   shear_range = 0.2,\n",
        "                                   zoom_range = 0.2,\n",
        "                                   horizontal_flip = True)\n",
        "\n",
        "test_datagen = ImageDataGenerator(rescale = 1./255)\n",
        "\n",
        "training_set = train_datagen.flow_from_directory('drive/images/train',\n",
        "                                                 target_size = (64, 64),\n",
        "                                                 batch_size = 32,\n",
        "                                                 class_mode = 'binary')\n",
        "\n",
        "test_set = test_datagen.flow_from_directory('drive/images/test',\n",
        "                                            target_size = (64, 64),\n",
        "                                            batch_size = 32,\n",
        "                                            class_mode = 'binary')\n"
      ],
      "execution_count": 13,
      "outputs": [
        {
          "output_type": "stream",
          "text": [
            "Found 152 images belonging to 2 classes.\n",
            "Found 23 images belonging to 2 classes.\n"
          ],
          "name": "stdout"
        }
      ]
    },
    {
      "metadata": {
        "id": "YrDfB5_JRFBX",
        "colab_type": "code",
        "colab": {}
      },
      "cell_type": "code",
      "source": [
        ""
      ],
      "execution_count": 0,
      "outputs": []
    },
    {
      "metadata": {
        "id": "jN0zR9ukQ5rE",
        "colab_type": "code",
        "colab": {
          "base_uri": "https://localhost:8080/",
          "height": 574
        },
        "outputId": "60e54c7d-a6cf-4349-9bfb-7a2650b62c6b"
      },
      "cell_type": "code",
      "source": [
        "\n",
        "# Part 2 - Fitting the CNN to the images\n",
        "classifier.fit_generator(training_set,\n",
        "                         steps_per_epoch = 200,\n",
        "                         nb_epoch = 12,\n",
        "                         validation_data = test_set\n",
        "                         )"
      ],
      "execution_count": 14,
      "outputs": [
        {
          "output_type": "stream",
          "text": [
            "/usr/local/lib/python3.6/dist-packages/ipykernel_launcher.py:4: UserWarning: The semantics of the Keras 2 argument `steps_per_epoch` is not the same as the Keras 1 argument `samples_per_epoch`. `steps_per_epoch` is the number of batches to draw from the generator at each epoch. Basically steps_per_epoch = samples_per_epoch/batch_size. Similarly `nb_val_samples`->`validation_steps` and `val_samples`->`steps` arguments have changed. Update your method calls accordingly.\n",
            "  after removing the cwd from sys.path.\n",
            "/usr/local/lib/python3.6/dist-packages/ipykernel_launcher.py:4: UserWarning: Update your `fit_generator` call to the Keras 2 API: `fit_generator(<keras.pre..., steps_per_epoch=200, validation_data=<keras.pre..., epochs=12)`\n",
            "  after removing the cwd from sys.path.\n"
          ],
          "name": "stderr"
        },
        {
          "output_type": "stream",
          "text": [
            "Epoch 1/12\n",
            "200/200 [==============================] - 86s 429ms/step - loss: 0.5289 - acc: 0.7373 - val_loss: 0.9603 - val_acc: 0.6522\n",
            "Epoch 2/12\n",
            "200/200 [==============================] - 86s 428ms/step - loss: 0.1702 - acc: 0.9330 - val_loss: 1.8862 - val_acc: 0.6522\n",
            "Epoch 3/12\n",
            "200/200 [==============================] - 86s 430ms/step - loss: 0.0702 - acc: 0.9745 - val_loss: 2.2428 - val_acc: 0.5652\n",
            "Epoch 4/12\n",
            "200/200 [==============================] - 85s 426ms/step - loss: 0.0288 - acc: 0.9884 - val_loss: 2.7197 - val_acc: 0.5652\n",
            "Epoch 5/12\n",
            "200/200 [==============================] - 86s 430ms/step - loss: 0.0221 - acc: 0.9926 - val_loss: 2.8008 - val_acc: 0.6087\n",
            "Epoch 6/12\n",
            "200/200 [==============================] - 85s 427ms/step - loss: 0.0135 - acc: 0.9952 - val_loss: 2.0837 - val_acc: 0.6957\n",
            "Epoch 7/12\n",
            "200/200 [==============================] - 86s 429ms/step - loss: 0.0136 - acc: 0.9956 - val_loss: 3.2307 - val_acc: 0.5652\n",
            "Epoch 8/12\n",
            "200/200 [==============================] - 85s 427ms/step - loss: 0.0036 - acc: 0.9991 - val_loss: 3.7504 - val_acc: 0.5652\n",
            "Epoch 9/12\n",
            "200/200 [==============================] - 85s 427ms/step - loss: 0.0061 - acc: 0.9983 - val_loss: 2.8440 - val_acc: 0.6087\n",
            "Epoch 10/12\n",
            "200/200 [==============================] - 86s 429ms/step - loss: 0.0373 - acc: 0.9890 - val_loss: 2.5348 - val_acc: 0.6087\n",
            "Epoch 11/12\n",
            "200/200 [==============================] - 85s 425ms/step - loss: 0.0136 - acc: 0.9957 - val_loss: 3.6744 - val_acc: 0.6087\n",
            "Epoch 12/12\n",
            "200/200 [==============================] - 86s 430ms/step - loss: 5.4614e-04 - acc: 1.0000 - val_loss: 3.6821 - val_acc: 0.6522\n"
          ],
          "name": "stdout"
        },
        {
          "output_type": "execute_result",
          "data": {
            "text/plain": [
              "<keras.callbacks.History at 0x7f824e923a90>"
            ]
          },
          "metadata": {
            "tags": []
          },
          "execution_count": 14
        }
      ]
    },
    {
      "metadata": {
        "id": "88X-b1UCUVNm",
        "colab_type": "code",
        "colab": {
          "base_uri": "https://localhost:8080/",
          "height": 54
        },
        "outputId": "54e08abd-a28c-4831-f65e-7b6080c3a57a"
      },
      "cell_type": "code",
      "source": [
        "# STEP 10\n",
        "\n",
        "from IPython.display import Image\n",
        "Image(\"drive/images/bunny.jpg\")\n",
        "\n",
        "# to make predictions\n",
        "import numpy as np\n",
        "from keras.preprocessing import image\n",
        "test_image = image.load_img('drive/images/bunny.jpg', target_size = (64, 64))\n",
        "test_image = image.img_to_array(test_image)\n",
        "test_image = np.expand_dims(test_image, axis = 0)\n",
        "result = classifier.predict(test_image)\n",
        "# training_set.class_indices\n",
        "if result[0][0] == 1:\n",
        "    prediction = 'puppy'\n",
        "else:\n",
        "    prediction = 'bunny'\n",
        "    \n",
        "print(result)\n",
        "print(prediction)"
      ],
      "execution_count": 21,
      "outputs": [
        {
          "output_type": "stream",
          "text": [
            "[[1.]]\n",
            "puppy\n"
          ],
          "name": "stdout"
        }
      ]
    },
    {
      "metadata": {
        "id": "jV3CS5uNZI9y",
        "colab_type": "code",
        "colab": {}
      },
      "cell_type": "code",
      "source": [
        ""
      ],
      "execution_count": 0,
      "outputs": []
    }
  ]
}